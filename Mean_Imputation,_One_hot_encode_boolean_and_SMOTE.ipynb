{
  "nbformat": 4,
  "nbformat_minor": 0,
  "metadata": {
    "colab": {
      "provenance": []
    },
    "kernelspec": {
      "name": "python3",
      "display_name": "Python 3"
    },
    "language_info": {
      "name": "python"
    }
  },
  "cells": [
    {
      "cell_type": "markdown",
      "source": [
        "### Opening the dataset\n",
        "\n",
        "Dataset uploaded on github - https://github.com/Aniket302/Cares_Data/tree/main"
      ],
      "metadata": {
        "id": "1TSQB3MIZ1oG"
      }
    },
    {
      "cell_type": "code",
      "execution_count": null,
      "metadata": {
        "id": "Ibl_zKR26rUC"
      },
      "outputs": [],
      "source": [
        "import numpy as np\n",
        "import pandas as pd"
      ]
    },
    {
      "cell_type": "code",
      "source": [
        "df = pd.read_csv(\"https://github.com/Aniket302/Cares_Data/blob/main/CARES_data_cleaned.csv?raw=true\")\n",
        "df.head()"
      ],
      "metadata": {
        "colab": {
          "base_uri": "https://localhost:8080/",
          "height": 273
        },
        "id": "A2VToTP-6y0-",
        "outputId": "411fa391-0133-4e50-b230-ca0201c96cf6"
      },
      "execution_count": null,
      "outputs": [
        {
          "output_type": "execute_result",
          "data": {
            "text/plain": [
              "   Indexno   Age  Gender  RCRI score Anemia category  PreopEGFRMDRD  \\\n",
              "0        2  48.0  Female         NaN             NaN            NaN   \n",
              "1        5  36.0  Female         NaN             NaN            NaN   \n",
              "2        6  64.0  Female         NaN            Mild     152.538570   \n",
              "3        9  73.0    Male         NaN        Moderate     117.231496   \n",
              "4       10  73.0    Male         0.0            Mild      98.651255   \n",
              "\n",
              "  GradeofKidneydisease  DaysbetweenDeathandoperation  @30daymortality  \\\n",
              "0                  NaN                           NaN            False   \n",
              "1                  NaN                           NaN            False   \n",
              "2                   G1                           NaN            False   \n",
              "3                   G1                           NaN            False   \n",
              "4                   G1                          59.0            False   \n",
              "\n",
              "   Preoptransfusionwithin30days  ...  Anemiacategorybinned_Moderate/Severe  \\\n",
              "0                           0.0  ...                                 False   \n",
              "1                           0.0  ...                                 False   \n",
              "2                           0.0  ...                                 False   \n",
              "3                           0.0  ...                                  True   \n",
              "4                           0.0  ...                                 False   \n",
              "\n",
              "   Anemiacategorybinned_NA  RDW15.7_<= 15.7 RDW15.7_>15.7 RDW15.7_NA  \\\n",
              "0                     True            False         False       True   \n",
              "1                     True             True         False      False   \n",
              "2                    False             True         False      False   \n",
              "3                    False             True         False      False   \n",
              "4                    False            False          True      False   \n",
              "\n",
              "  ASAcategorybinned_I ASAcategorybinned_II ASAcategorybinned_III  \\\n",
              "0                True                False                 False   \n",
              "1                True                False                 False   \n",
              "2                True                False                 False   \n",
              "3                True                False                 False   \n",
              "4               False                 True                 False   \n",
              "\n",
              "   ASAcategorybinned_IV-VI  ASAcategorybinned_NA  \n",
              "0                    False                 False  \n",
              "1                    False                 False  \n",
              "2                    False                 False  \n",
              "3                    False                 False  \n",
              "4                    False                 False  \n",
              "\n",
              "[5 rows x 87 columns]"
            ],
            "text/html": [
              "\n",
              "  <div id=\"df-ecf18de1-5645-48ce-b7c1-1df3bea1e377\" class=\"colab-df-container\">\n",
              "    <div>\n",
              "<style scoped>\n",
              "    .dataframe tbody tr th:only-of-type {\n",
              "        vertical-align: middle;\n",
              "    }\n",
              "\n",
              "    .dataframe tbody tr th {\n",
              "        vertical-align: top;\n",
              "    }\n",
              "\n",
              "    .dataframe thead th {\n",
              "        text-align: right;\n",
              "    }\n",
              "</style>\n",
              "<table border=\"1\" class=\"dataframe\">\n",
              "  <thead>\n",
              "    <tr style=\"text-align: right;\">\n",
              "      <th></th>\n",
              "      <th>Indexno</th>\n",
              "      <th>Age</th>\n",
              "      <th>Gender</th>\n",
              "      <th>RCRI score</th>\n",
              "      <th>Anemia category</th>\n",
              "      <th>PreopEGFRMDRD</th>\n",
              "      <th>GradeofKidneydisease</th>\n",
              "      <th>DaysbetweenDeathandoperation</th>\n",
              "      <th>@30daymortality</th>\n",
              "      <th>Preoptransfusionwithin30days</th>\n",
              "      <th>...</th>\n",
              "      <th>Anemiacategorybinned_Moderate/Severe</th>\n",
              "      <th>Anemiacategorybinned_NA</th>\n",
              "      <th>RDW15.7_&lt;= 15.7</th>\n",
              "      <th>RDW15.7_&gt;15.7</th>\n",
              "      <th>RDW15.7_NA</th>\n",
              "      <th>ASAcategorybinned_I</th>\n",
              "      <th>ASAcategorybinned_II</th>\n",
              "      <th>ASAcategorybinned_III</th>\n",
              "      <th>ASAcategorybinned_IV-VI</th>\n",
              "      <th>ASAcategorybinned_NA</th>\n",
              "    </tr>\n",
              "  </thead>\n",
              "  <tbody>\n",
              "    <tr>\n",
              "      <th>0</th>\n",
              "      <td>2</td>\n",
              "      <td>48.0</td>\n",
              "      <td>Female</td>\n",
              "      <td>NaN</td>\n",
              "      <td>NaN</td>\n",
              "      <td>NaN</td>\n",
              "      <td>NaN</td>\n",
              "      <td>NaN</td>\n",
              "      <td>False</td>\n",
              "      <td>0.0</td>\n",
              "      <td>...</td>\n",
              "      <td>False</td>\n",
              "      <td>True</td>\n",
              "      <td>False</td>\n",
              "      <td>False</td>\n",
              "      <td>True</td>\n",
              "      <td>True</td>\n",
              "      <td>False</td>\n",
              "      <td>False</td>\n",
              "      <td>False</td>\n",
              "      <td>False</td>\n",
              "    </tr>\n",
              "    <tr>\n",
              "      <th>1</th>\n",
              "      <td>5</td>\n",
              "      <td>36.0</td>\n",
              "      <td>Female</td>\n",
              "      <td>NaN</td>\n",
              "      <td>NaN</td>\n",
              "      <td>NaN</td>\n",
              "      <td>NaN</td>\n",
              "      <td>NaN</td>\n",
              "      <td>False</td>\n",
              "      <td>0.0</td>\n",
              "      <td>...</td>\n",
              "      <td>False</td>\n",
              "      <td>True</td>\n",
              "      <td>True</td>\n",
              "      <td>False</td>\n",
              "      <td>False</td>\n",
              "      <td>True</td>\n",
              "      <td>False</td>\n",
              "      <td>False</td>\n",
              "      <td>False</td>\n",
              "      <td>False</td>\n",
              "    </tr>\n",
              "    <tr>\n",
              "      <th>2</th>\n",
              "      <td>6</td>\n",
              "      <td>64.0</td>\n",
              "      <td>Female</td>\n",
              "      <td>NaN</td>\n",
              "      <td>Mild</td>\n",
              "      <td>152.538570</td>\n",
              "      <td>G1</td>\n",
              "      <td>NaN</td>\n",
              "      <td>False</td>\n",
              "      <td>0.0</td>\n",
              "      <td>...</td>\n",
              "      <td>False</td>\n",
              "      <td>False</td>\n",
              "      <td>True</td>\n",
              "      <td>False</td>\n",
              "      <td>False</td>\n",
              "      <td>True</td>\n",
              "      <td>False</td>\n",
              "      <td>False</td>\n",
              "      <td>False</td>\n",
              "      <td>False</td>\n",
              "    </tr>\n",
              "    <tr>\n",
              "      <th>3</th>\n",
              "      <td>9</td>\n",
              "      <td>73.0</td>\n",
              "      <td>Male</td>\n",
              "      <td>NaN</td>\n",
              "      <td>Moderate</td>\n",
              "      <td>117.231496</td>\n",
              "      <td>G1</td>\n",
              "      <td>NaN</td>\n",
              "      <td>False</td>\n",
              "      <td>0.0</td>\n",
              "      <td>...</td>\n",
              "      <td>True</td>\n",
              "      <td>False</td>\n",
              "      <td>True</td>\n",
              "      <td>False</td>\n",
              "      <td>False</td>\n",
              "      <td>True</td>\n",
              "      <td>False</td>\n",
              "      <td>False</td>\n",
              "      <td>False</td>\n",
              "      <td>False</td>\n",
              "    </tr>\n",
              "    <tr>\n",
              "      <th>4</th>\n",
              "      <td>10</td>\n",
              "      <td>73.0</td>\n",
              "      <td>Male</td>\n",
              "      <td>0.0</td>\n",
              "      <td>Mild</td>\n",
              "      <td>98.651255</td>\n",
              "      <td>G1</td>\n",
              "      <td>59.0</td>\n",
              "      <td>False</td>\n",
              "      <td>0.0</td>\n",
              "      <td>...</td>\n",
              "      <td>False</td>\n",
              "      <td>False</td>\n",
              "      <td>False</td>\n",
              "      <td>True</td>\n",
              "      <td>False</td>\n",
              "      <td>False</td>\n",
              "      <td>True</td>\n",
              "      <td>False</td>\n",
              "      <td>False</td>\n",
              "      <td>False</td>\n",
              "    </tr>\n",
              "  </tbody>\n",
              "</table>\n",
              "<p>5 rows × 87 columns</p>\n",
              "</div>\n",
              "    <div class=\"colab-df-buttons\">\n",
              "\n",
              "  <div class=\"colab-df-container\">\n",
              "    <button class=\"colab-df-convert\" onclick=\"convertToInteractive('df-ecf18de1-5645-48ce-b7c1-1df3bea1e377')\"\n",
              "            title=\"Convert this dataframe to an interactive table.\"\n",
              "            style=\"display:none;\">\n",
              "\n",
              "  <svg xmlns=\"http://www.w3.org/2000/svg\" height=\"24px\" viewBox=\"0 -960 960 960\">\n",
              "    <path d=\"M120-120v-720h720v720H120Zm60-500h600v-160H180v160Zm220 220h160v-160H400v160Zm0 220h160v-160H400v160ZM180-400h160v-160H180v160Zm440 0h160v-160H620v160ZM180-180h160v-160H180v160Zm440 0h160v-160H620v160Z\"/>\n",
              "  </svg>\n",
              "    </button>\n",
              "\n",
              "  <style>\n",
              "    .colab-df-container {\n",
              "      display:flex;\n",
              "      gap: 12px;\n",
              "    }\n",
              "\n",
              "    .colab-df-convert {\n",
              "      background-color: #E8F0FE;\n",
              "      border: none;\n",
              "      border-radius: 50%;\n",
              "      cursor: pointer;\n",
              "      display: none;\n",
              "      fill: #1967D2;\n",
              "      height: 32px;\n",
              "      padding: 0 0 0 0;\n",
              "      width: 32px;\n",
              "    }\n",
              "\n",
              "    .colab-df-convert:hover {\n",
              "      background-color: #E2EBFA;\n",
              "      box-shadow: 0px 1px 2px rgba(60, 64, 67, 0.3), 0px 1px 3px 1px rgba(60, 64, 67, 0.15);\n",
              "      fill: #174EA6;\n",
              "    }\n",
              "\n",
              "    .colab-df-buttons div {\n",
              "      margin-bottom: 4px;\n",
              "    }\n",
              "\n",
              "    [theme=dark] .colab-df-convert {\n",
              "      background-color: #3B4455;\n",
              "      fill: #D2E3FC;\n",
              "    }\n",
              "\n",
              "    [theme=dark] .colab-df-convert:hover {\n",
              "      background-color: #434B5C;\n",
              "      box-shadow: 0px 1px 3px 1px rgba(0, 0, 0, 0.15);\n",
              "      filter: drop-shadow(0px 1px 2px rgba(0, 0, 0, 0.3));\n",
              "      fill: #FFFFFF;\n",
              "    }\n",
              "  </style>\n",
              "\n",
              "    <script>\n",
              "      const buttonEl =\n",
              "        document.querySelector('#df-ecf18de1-5645-48ce-b7c1-1df3bea1e377 button.colab-df-convert');\n",
              "      buttonEl.style.display =\n",
              "        google.colab.kernel.accessAllowed ? 'block' : 'none';\n",
              "\n",
              "      async function convertToInteractive(key) {\n",
              "        const element = document.querySelector('#df-ecf18de1-5645-48ce-b7c1-1df3bea1e377');\n",
              "        const dataTable =\n",
              "          await google.colab.kernel.invokeFunction('convertToInteractive',\n",
              "                                                    [key], {});\n",
              "        if (!dataTable) return;\n",
              "\n",
              "        const docLinkHtml = 'Like what you see? Visit the ' +\n",
              "          '<a target=\"_blank\" href=https://colab.research.google.com/notebooks/data_table.ipynb>data table notebook</a>'\n",
              "          + ' to learn more about interactive tables.';\n",
              "        element.innerHTML = '';\n",
              "        dataTable['output_type'] = 'display_data';\n",
              "        await google.colab.output.renderOutput(dataTable, element);\n",
              "        const docLink = document.createElement('div');\n",
              "        docLink.innerHTML = docLinkHtml;\n",
              "        element.appendChild(docLink);\n",
              "      }\n",
              "    </script>\n",
              "  </div>\n",
              "\n",
              "\n",
              "<div id=\"df-d41373ff-1982-440d-a9b0-7ee541528696\">\n",
              "  <button class=\"colab-df-quickchart\" onclick=\"quickchart('df-d41373ff-1982-440d-a9b0-7ee541528696')\"\n",
              "            title=\"Suggest charts\"\n",
              "            style=\"display:none;\">\n",
              "\n",
              "<svg xmlns=\"http://www.w3.org/2000/svg\" height=\"24px\"viewBox=\"0 0 24 24\"\n",
              "     width=\"24px\">\n",
              "    <g>\n",
              "        <path d=\"M19 3H5c-1.1 0-2 .9-2 2v14c0 1.1.9 2 2 2h14c1.1 0 2-.9 2-2V5c0-1.1-.9-2-2-2zM9 17H7v-7h2v7zm4 0h-2V7h2v10zm4 0h-2v-4h2v4z\"/>\n",
              "    </g>\n",
              "</svg>\n",
              "  </button>\n",
              "\n",
              "<style>\n",
              "  .colab-df-quickchart {\n",
              "      --bg-color: #E8F0FE;\n",
              "      --fill-color: #1967D2;\n",
              "      --hover-bg-color: #E2EBFA;\n",
              "      --hover-fill-color: #174EA6;\n",
              "      --disabled-fill-color: #AAA;\n",
              "      --disabled-bg-color: #DDD;\n",
              "  }\n",
              "\n",
              "  [theme=dark] .colab-df-quickchart {\n",
              "      --bg-color: #3B4455;\n",
              "      --fill-color: #D2E3FC;\n",
              "      --hover-bg-color: #434B5C;\n",
              "      --hover-fill-color: #FFFFFF;\n",
              "      --disabled-bg-color: #3B4455;\n",
              "      --disabled-fill-color: #666;\n",
              "  }\n",
              "\n",
              "  .colab-df-quickchart {\n",
              "    background-color: var(--bg-color);\n",
              "    border: none;\n",
              "    border-radius: 50%;\n",
              "    cursor: pointer;\n",
              "    display: none;\n",
              "    fill: var(--fill-color);\n",
              "    height: 32px;\n",
              "    padding: 0;\n",
              "    width: 32px;\n",
              "  }\n",
              "\n",
              "  .colab-df-quickchart:hover {\n",
              "    background-color: var(--hover-bg-color);\n",
              "    box-shadow: 0 1px 2px rgba(60, 64, 67, 0.3), 0 1px 3px 1px rgba(60, 64, 67, 0.15);\n",
              "    fill: var(--button-hover-fill-color);\n",
              "  }\n",
              "\n",
              "  .colab-df-quickchart-complete:disabled,\n",
              "  .colab-df-quickchart-complete:disabled:hover {\n",
              "    background-color: var(--disabled-bg-color);\n",
              "    fill: var(--disabled-fill-color);\n",
              "    box-shadow: none;\n",
              "  }\n",
              "\n",
              "  .colab-df-spinner {\n",
              "    border: 2px solid var(--fill-color);\n",
              "    border-color: transparent;\n",
              "    border-bottom-color: var(--fill-color);\n",
              "    animation:\n",
              "      spin 1s steps(1) infinite;\n",
              "  }\n",
              "\n",
              "  @keyframes spin {\n",
              "    0% {\n",
              "      border-color: transparent;\n",
              "      border-bottom-color: var(--fill-color);\n",
              "      border-left-color: var(--fill-color);\n",
              "    }\n",
              "    20% {\n",
              "      border-color: transparent;\n",
              "      border-left-color: var(--fill-color);\n",
              "      border-top-color: var(--fill-color);\n",
              "    }\n",
              "    30% {\n",
              "      border-color: transparent;\n",
              "      border-left-color: var(--fill-color);\n",
              "      border-top-color: var(--fill-color);\n",
              "      border-right-color: var(--fill-color);\n",
              "    }\n",
              "    40% {\n",
              "      border-color: transparent;\n",
              "      border-right-color: var(--fill-color);\n",
              "      border-top-color: var(--fill-color);\n",
              "    }\n",
              "    60% {\n",
              "      border-color: transparent;\n",
              "      border-right-color: var(--fill-color);\n",
              "    }\n",
              "    80% {\n",
              "      border-color: transparent;\n",
              "      border-right-color: var(--fill-color);\n",
              "      border-bottom-color: var(--fill-color);\n",
              "    }\n",
              "    90% {\n",
              "      border-color: transparent;\n",
              "      border-bottom-color: var(--fill-color);\n",
              "    }\n",
              "  }\n",
              "</style>\n",
              "\n",
              "  <script>\n",
              "    async function quickchart(key) {\n",
              "      const quickchartButtonEl =\n",
              "        document.querySelector('#' + key + ' button');\n",
              "      quickchartButtonEl.disabled = true;  // To prevent multiple clicks.\n",
              "      quickchartButtonEl.classList.add('colab-df-spinner');\n",
              "      try {\n",
              "        const charts = await google.colab.kernel.invokeFunction(\n",
              "            'suggestCharts', [key], {});\n",
              "      } catch (error) {\n",
              "        console.error('Error during call to suggestCharts:', error);\n",
              "      }\n",
              "      quickchartButtonEl.classList.remove('colab-df-spinner');\n",
              "      quickchartButtonEl.classList.add('colab-df-quickchart-complete');\n",
              "    }\n",
              "    (() => {\n",
              "      let quickchartButtonEl =\n",
              "        document.querySelector('#df-d41373ff-1982-440d-a9b0-7ee541528696 button');\n",
              "      quickchartButtonEl.style.display =\n",
              "        google.colab.kernel.accessAllowed ? 'block' : 'none';\n",
              "    })();\n",
              "  </script>\n",
              "</div>\n",
              "\n",
              "    </div>\n",
              "  </div>\n"
            ],
            "application/vnd.google.colaboratory.intrinsic+json": {
              "type": "dataframe",
              "variable_name": "df"
            }
          },
          "metadata": {},
          "execution_count": 5
        }
      ]
    },
    {
      "cell_type": "code",
      "source": [
        "missing_percentage = df.isnull().mean() * 100\n",
        "\n",
        "missing_columns = missing_percentage[missing_percentage > 0]\n",
        "print(missing_columns)"
      ],
      "metadata": {
        "colab": {
          "base_uri": "https://localhost:8080/"
        },
        "id": "qVV-oDfO0x8E",
        "outputId": "c9e15ed0-d3dd-45de-c660-efad1a32dfa3"
      },
      "execution_count": null,
      "outputs": [
        {
          "output_type": "stream",
          "name": "stdout",
          "text": [
            "RCRI score                      30.207633\n",
            "Anemia category                 73.708212\n",
            "PreopEGFRMDRD                   11.929283\n",
            "GradeofKidneydisease            11.929283\n",
            "DaysbetweenDeathandoperation    93.837088\n",
            "RaceCategory                     0.006609\n",
            "CVARCRICategory                 31.200088\n",
            "IHDRCRICategory                 31.472159\n",
            "CHFRCRICategory                 28.924382\n",
            "DMinsulinRCRICategory           29.602908\n",
            "CreatinineRCRICategory          17.340970\n",
            "GradeofKidneyCategory           11.929283\n",
            "Anemiacategorybinned            73.708212\n",
            "RDW15.7                          6.871179\n",
            "ASAcategorybinned                5.308146\n",
            "dtype: float64\n"
          ]
        }
      ]
    },
    {
      "cell_type": "markdown",
      "source": [
        "### Mean imputation for numerical columns"
      ],
      "metadata": {
        "id": "6zkCEJOg66fh"
      }
    },
    {
      "cell_type": "code",
      "source": [
        "# Mean imputation for numerical columns - RCRI score and PreopEGFRMDRD\n",
        "df['RCRI score'].fillna(df['RCRI score'].mean(), inplace = True)\n",
        "df['PreopEGFRMDRD'].fillna(df['PreopEGFRMDRD'].mean(), inplace = True)"
      ],
      "metadata": {
        "id": "hRrdm7Tw6zDu"
      },
      "execution_count": null,
      "outputs": []
    },
    {
      "cell_type": "code",
      "source": [
        "#Check that there are no more missing values in these two columns:\n",
        "print(df['RCRI score'].isna().sum())\n",
        "print(df['PreopEGFRMDRD'].isna().sum())"
      ],
      "metadata": {
        "colab": {
          "base_uri": "https://localhost:8080/"
        },
        "id": "F1kW_jhG70rw",
        "outputId": "76b9fc56-d917-4132-9d0e-9b300ad77d26"
      },
      "execution_count": null,
      "outputs": [
        {
          "output_type": "stream",
          "name": "stdout",
          "text": [
            "0\n",
            "0\n"
          ]
        }
      ]
    },
    {
      "cell_type": "markdown",
      "source": [
        "### One hot encoding for boolean columns with missing values"
      ],
      "metadata": {
        "id": "X1RZeMfL681X"
      }
    },
    {
      "cell_type": "code",
      "source": [
        "boolean_cols = ['CVARCRICategory', 'IHDRCRICategory','CHFRCRICategory',\n",
        "                'DMinsulinRCRICategory', 'CreatinineRCRICategory']"
      ],
      "metadata": {
        "id": "E1YwlcV76zPN"
      },
      "execution_count": null,
      "outputs": []
    },
    {
      "cell_type": "markdown",
      "source": [
        "Converting boolean to categorical first"
      ],
      "metadata": {
        "id": "jFiuWdOH-Odt"
      }
    },
    {
      "cell_type": "code",
      "source": [
        "df[boolean_cols] = df[boolean_cols].applymap(lambda x: str(x) if pd.notnull(x) else x)"
      ],
      "metadata": {
        "colab": {
          "base_uri": "https://localhost:8080/"
        },
        "id": "UxsKfqpg-6k_",
        "outputId": "2de4267c-f35a-4cac-a193-df5596151cf4"
      },
      "execution_count": null,
      "outputs": [
        {
          "output_type": "stream",
          "name": "stderr",
          "text": [
            "<ipython-input-10-822e341d1d2a>:1: FutureWarning: DataFrame.applymap has been deprecated. Use DataFrame.map instead.\n",
            "  df[boolean_cols] = df[boolean_cols].applymap(lambda x: str(x) if pd.notnull(x) else x)\n"
          ]
        }
      ]
    },
    {
      "cell_type": "markdown",
      "source": [
        "One hot encoding"
      ],
      "metadata": {
        "id": "TCTXOThgZVag"
      }
    },
    {
      "cell_type": "code",
      "source": [
        "# One-hot encoding\n",
        "cdf_one_hot = df.copy()\n",
        "\n",
        "for col in boolean_cols:\n",
        "    one_hot = pd.get_dummies(df[col], dummy_na=True)\n",
        "    # retain a column to indicate NaN\n",
        "    one_hot.columns = one_hot.columns.fillna('NA')\n",
        "    one_hot.columns = [col + '_' + a for a in one_hot.columns]\n",
        "    cdf_one_hot = cdf_one_hot.join(one_hot)\n",
        "cdf_one_hot.head()"
      ],
      "metadata": {
        "colab": {
          "base_uri": "https://localhost:8080/",
          "height": 273
        },
        "id": "eDWjrtEp9mxr",
        "outputId": "81b207bd-6b22-43f1-c882-c1cd967dfc2e"
      },
      "execution_count": null,
      "outputs": [
        {
          "output_type": "execute_result",
          "data": {
            "text/plain": [
              "   Indexno   Age  Gender  RCRI score Anemia category  PreopEGFRMDRD  \\\n",
              "0        2  48.0  Female    0.322296             NaN      96.426155   \n",
              "1        5  36.0  Female    0.322296             NaN      96.426155   \n",
              "2        6  64.0  Female    0.322296            Mild     152.538570   \n",
              "3        9  73.0    Male    0.322296        Moderate     117.231496   \n",
              "4       10  73.0    Male    0.000000            Mild      98.651255   \n",
              "\n",
              "  GradeofKidneydisease  DaysbetweenDeathandoperation  @30daymortality  \\\n",
              "0                  NaN                           NaN            False   \n",
              "1                  NaN                           NaN            False   \n",
              "2                   G1                           NaN            False   \n",
              "3                   G1                           NaN            False   \n",
              "4                   G1                          59.0            False   \n",
              "\n",
              "   Preoptransfusionwithin30days  ...  IHDRCRICategory_NA  \\\n",
              "0                           0.0  ...                True   \n",
              "1                           0.0  ...                True   \n",
              "2                           0.0  ...                True   \n",
              "3                           0.0  ...                True   \n",
              "4                           0.0  ...               False   \n",
              "\n",
              "   CHFRCRICategory_False  CHFRCRICategory_True CHFRCRICategory_NA  \\\n",
              "0                  False                 False               True   \n",
              "1                  False                 False               True   \n",
              "2                  False                 False               True   \n",
              "3                  False                 False               True   \n",
              "4                   True                 False              False   \n",
              "\n",
              "  DMinsulinRCRICategory_False DMinsulinRCRICategory_True  \\\n",
              "0                       False                      False   \n",
              "1                       False                      False   \n",
              "2                       False                      False   \n",
              "3                       False                      False   \n",
              "4                        True                      False   \n",
              "\n",
              "  DMinsulinRCRICategory_NA CreatinineRCRICategory_False  \\\n",
              "0                     True                         True   \n",
              "1                     True                        False   \n",
              "2                     True                        False   \n",
              "3                     True                         True   \n",
              "4                    False                         True   \n",
              "\n",
              "   CreatinineRCRICategory_True  CreatinineRCRICategory_NA  \n",
              "0                        False                      False  \n",
              "1                        False                       True  \n",
              "2                        False                       True  \n",
              "3                        False                      False  \n",
              "4                        False                      False  \n",
              "\n",
              "[5 rows x 102 columns]"
            ],
            "text/html": [
              "\n",
              "  <div id=\"df-8eba2564-c266-4032-8118-3a579f5e3a3a\" class=\"colab-df-container\">\n",
              "    <div>\n",
              "<style scoped>\n",
              "    .dataframe tbody tr th:only-of-type {\n",
              "        vertical-align: middle;\n",
              "    }\n",
              "\n",
              "    .dataframe tbody tr th {\n",
              "        vertical-align: top;\n",
              "    }\n",
              "\n",
              "    .dataframe thead th {\n",
              "        text-align: right;\n",
              "    }\n",
              "</style>\n",
              "<table border=\"1\" class=\"dataframe\">\n",
              "  <thead>\n",
              "    <tr style=\"text-align: right;\">\n",
              "      <th></th>\n",
              "      <th>Indexno</th>\n",
              "      <th>Age</th>\n",
              "      <th>Gender</th>\n",
              "      <th>RCRI score</th>\n",
              "      <th>Anemia category</th>\n",
              "      <th>PreopEGFRMDRD</th>\n",
              "      <th>GradeofKidneydisease</th>\n",
              "      <th>DaysbetweenDeathandoperation</th>\n",
              "      <th>@30daymortality</th>\n",
              "      <th>Preoptransfusionwithin30days</th>\n",
              "      <th>...</th>\n",
              "      <th>IHDRCRICategory_NA</th>\n",
              "      <th>CHFRCRICategory_False</th>\n",
              "      <th>CHFRCRICategory_True</th>\n",
              "      <th>CHFRCRICategory_NA</th>\n",
              "      <th>DMinsulinRCRICategory_False</th>\n",
              "      <th>DMinsulinRCRICategory_True</th>\n",
              "      <th>DMinsulinRCRICategory_NA</th>\n",
              "      <th>CreatinineRCRICategory_False</th>\n",
              "      <th>CreatinineRCRICategory_True</th>\n",
              "      <th>CreatinineRCRICategory_NA</th>\n",
              "    </tr>\n",
              "  </thead>\n",
              "  <tbody>\n",
              "    <tr>\n",
              "      <th>0</th>\n",
              "      <td>2</td>\n",
              "      <td>48.0</td>\n",
              "      <td>Female</td>\n",
              "      <td>0.322296</td>\n",
              "      <td>NaN</td>\n",
              "      <td>96.426155</td>\n",
              "      <td>NaN</td>\n",
              "      <td>NaN</td>\n",
              "      <td>False</td>\n",
              "      <td>0.0</td>\n",
              "      <td>...</td>\n",
              "      <td>True</td>\n",
              "      <td>False</td>\n",
              "      <td>False</td>\n",
              "      <td>True</td>\n",
              "      <td>False</td>\n",
              "      <td>False</td>\n",
              "      <td>True</td>\n",
              "      <td>True</td>\n",
              "      <td>False</td>\n",
              "      <td>False</td>\n",
              "    </tr>\n",
              "    <tr>\n",
              "      <th>1</th>\n",
              "      <td>5</td>\n",
              "      <td>36.0</td>\n",
              "      <td>Female</td>\n",
              "      <td>0.322296</td>\n",
              "      <td>NaN</td>\n",
              "      <td>96.426155</td>\n",
              "      <td>NaN</td>\n",
              "      <td>NaN</td>\n",
              "      <td>False</td>\n",
              "      <td>0.0</td>\n",
              "      <td>...</td>\n",
              "      <td>True</td>\n",
              "      <td>False</td>\n",
              "      <td>False</td>\n",
              "      <td>True</td>\n",
              "      <td>False</td>\n",
              "      <td>False</td>\n",
              "      <td>True</td>\n",
              "      <td>False</td>\n",
              "      <td>False</td>\n",
              "      <td>True</td>\n",
              "    </tr>\n",
              "    <tr>\n",
              "      <th>2</th>\n",
              "      <td>6</td>\n",
              "      <td>64.0</td>\n",
              "      <td>Female</td>\n",
              "      <td>0.322296</td>\n",
              "      <td>Mild</td>\n",
              "      <td>152.538570</td>\n",
              "      <td>G1</td>\n",
              "      <td>NaN</td>\n",
              "      <td>False</td>\n",
              "      <td>0.0</td>\n",
              "      <td>...</td>\n",
              "      <td>True</td>\n",
              "      <td>False</td>\n",
              "      <td>False</td>\n",
              "      <td>True</td>\n",
              "      <td>False</td>\n",
              "      <td>False</td>\n",
              "      <td>True</td>\n",
              "      <td>False</td>\n",
              "      <td>False</td>\n",
              "      <td>True</td>\n",
              "    </tr>\n",
              "    <tr>\n",
              "      <th>3</th>\n",
              "      <td>9</td>\n",
              "      <td>73.0</td>\n",
              "      <td>Male</td>\n",
              "      <td>0.322296</td>\n",
              "      <td>Moderate</td>\n",
              "      <td>117.231496</td>\n",
              "      <td>G1</td>\n",
              "      <td>NaN</td>\n",
              "      <td>False</td>\n",
              "      <td>0.0</td>\n",
              "      <td>...</td>\n",
              "      <td>True</td>\n",
              "      <td>False</td>\n",
              "      <td>False</td>\n",
              "      <td>True</td>\n",
              "      <td>False</td>\n",
              "      <td>False</td>\n",
              "      <td>True</td>\n",
              "      <td>True</td>\n",
              "      <td>False</td>\n",
              "      <td>False</td>\n",
              "    </tr>\n",
              "    <tr>\n",
              "      <th>4</th>\n",
              "      <td>10</td>\n",
              "      <td>73.0</td>\n",
              "      <td>Male</td>\n",
              "      <td>0.000000</td>\n",
              "      <td>Mild</td>\n",
              "      <td>98.651255</td>\n",
              "      <td>G1</td>\n",
              "      <td>59.0</td>\n",
              "      <td>False</td>\n",
              "      <td>0.0</td>\n",
              "      <td>...</td>\n",
              "      <td>False</td>\n",
              "      <td>True</td>\n",
              "      <td>False</td>\n",
              "      <td>False</td>\n",
              "      <td>True</td>\n",
              "      <td>False</td>\n",
              "      <td>False</td>\n",
              "      <td>True</td>\n",
              "      <td>False</td>\n",
              "      <td>False</td>\n",
              "    </tr>\n",
              "  </tbody>\n",
              "</table>\n",
              "<p>5 rows × 102 columns</p>\n",
              "</div>\n",
              "    <div class=\"colab-df-buttons\">\n",
              "\n",
              "  <div class=\"colab-df-container\">\n",
              "    <button class=\"colab-df-convert\" onclick=\"convertToInteractive('df-8eba2564-c266-4032-8118-3a579f5e3a3a')\"\n",
              "            title=\"Convert this dataframe to an interactive table.\"\n",
              "            style=\"display:none;\">\n",
              "\n",
              "  <svg xmlns=\"http://www.w3.org/2000/svg\" height=\"24px\" viewBox=\"0 -960 960 960\">\n",
              "    <path d=\"M120-120v-720h720v720H120Zm60-500h600v-160H180v160Zm220 220h160v-160H400v160Zm0 220h160v-160H400v160ZM180-400h160v-160H180v160Zm440 0h160v-160H620v160ZM180-180h160v-160H180v160Zm440 0h160v-160H620v160Z\"/>\n",
              "  </svg>\n",
              "    </button>\n",
              "\n",
              "  <style>\n",
              "    .colab-df-container {\n",
              "      display:flex;\n",
              "      gap: 12px;\n",
              "    }\n",
              "\n",
              "    .colab-df-convert {\n",
              "      background-color: #E8F0FE;\n",
              "      border: none;\n",
              "      border-radius: 50%;\n",
              "      cursor: pointer;\n",
              "      display: none;\n",
              "      fill: #1967D2;\n",
              "      height: 32px;\n",
              "      padding: 0 0 0 0;\n",
              "      width: 32px;\n",
              "    }\n",
              "\n",
              "    .colab-df-convert:hover {\n",
              "      background-color: #E2EBFA;\n",
              "      box-shadow: 0px 1px 2px rgba(60, 64, 67, 0.3), 0px 1px 3px 1px rgba(60, 64, 67, 0.15);\n",
              "      fill: #174EA6;\n",
              "    }\n",
              "\n",
              "    .colab-df-buttons div {\n",
              "      margin-bottom: 4px;\n",
              "    }\n",
              "\n",
              "    [theme=dark] .colab-df-convert {\n",
              "      background-color: #3B4455;\n",
              "      fill: #D2E3FC;\n",
              "    }\n",
              "\n",
              "    [theme=dark] .colab-df-convert:hover {\n",
              "      background-color: #434B5C;\n",
              "      box-shadow: 0px 1px 3px 1px rgba(0, 0, 0, 0.15);\n",
              "      filter: drop-shadow(0px 1px 2px rgba(0, 0, 0, 0.3));\n",
              "      fill: #FFFFFF;\n",
              "    }\n",
              "  </style>\n",
              "\n",
              "    <script>\n",
              "      const buttonEl =\n",
              "        document.querySelector('#df-8eba2564-c266-4032-8118-3a579f5e3a3a button.colab-df-convert');\n",
              "      buttonEl.style.display =\n",
              "        google.colab.kernel.accessAllowed ? 'block' : 'none';\n",
              "\n",
              "      async function convertToInteractive(key) {\n",
              "        const element = document.querySelector('#df-8eba2564-c266-4032-8118-3a579f5e3a3a');\n",
              "        const dataTable =\n",
              "          await google.colab.kernel.invokeFunction('convertToInteractive',\n",
              "                                                    [key], {});\n",
              "        if (!dataTable) return;\n",
              "\n",
              "        const docLinkHtml = 'Like what you see? Visit the ' +\n",
              "          '<a target=\"_blank\" href=https://colab.research.google.com/notebooks/data_table.ipynb>data table notebook</a>'\n",
              "          + ' to learn more about interactive tables.';\n",
              "        element.innerHTML = '';\n",
              "        dataTable['output_type'] = 'display_data';\n",
              "        await google.colab.output.renderOutput(dataTable, element);\n",
              "        const docLink = document.createElement('div');\n",
              "        docLink.innerHTML = docLinkHtml;\n",
              "        element.appendChild(docLink);\n",
              "      }\n",
              "    </script>\n",
              "  </div>\n",
              "\n",
              "\n",
              "<div id=\"df-0b44b251-8097-439b-9ad1-4e9f99f3d1b5\">\n",
              "  <button class=\"colab-df-quickchart\" onclick=\"quickchart('df-0b44b251-8097-439b-9ad1-4e9f99f3d1b5')\"\n",
              "            title=\"Suggest charts\"\n",
              "            style=\"display:none;\">\n",
              "\n",
              "<svg xmlns=\"http://www.w3.org/2000/svg\" height=\"24px\"viewBox=\"0 0 24 24\"\n",
              "     width=\"24px\">\n",
              "    <g>\n",
              "        <path d=\"M19 3H5c-1.1 0-2 .9-2 2v14c0 1.1.9 2 2 2h14c1.1 0 2-.9 2-2V5c0-1.1-.9-2-2-2zM9 17H7v-7h2v7zm4 0h-2V7h2v10zm4 0h-2v-4h2v4z\"/>\n",
              "    </g>\n",
              "</svg>\n",
              "  </button>\n",
              "\n",
              "<style>\n",
              "  .colab-df-quickchart {\n",
              "      --bg-color: #E8F0FE;\n",
              "      --fill-color: #1967D2;\n",
              "      --hover-bg-color: #E2EBFA;\n",
              "      --hover-fill-color: #174EA6;\n",
              "      --disabled-fill-color: #AAA;\n",
              "      --disabled-bg-color: #DDD;\n",
              "  }\n",
              "\n",
              "  [theme=dark] .colab-df-quickchart {\n",
              "      --bg-color: #3B4455;\n",
              "      --fill-color: #D2E3FC;\n",
              "      --hover-bg-color: #434B5C;\n",
              "      --hover-fill-color: #FFFFFF;\n",
              "      --disabled-bg-color: #3B4455;\n",
              "      --disabled-fill-color: #666;\n",
              "  }\n",
              "\n",
              "  .colab-df-quickchart {\n",
              "    background-color: var(--bg-color);\n",
              "    border: none;\n",
              "    border-radius: 50%;\n",
              "    cursor: pointer;\n",
              "    display: none;\n",
              "    fill: var(--fill-color);\n",
              "    height: 32px;\n",
              "    padding: 0;\n",
              "    width: 32px;\n",
              "  }\n",
              "\n",
              "  .colab-df-quickchart:hover {\n",
              "    background-color: var(--hover-bg-color);\n",
              "    box-shadow: 0 1px 2px rgba(60, 64, 67, 0.3), 0 1px 3px 1px rgba(60, 64, 67, 0.15);\n",
              "    fill: var(--button-hover-fill-color);\n",
              "  }\n",
              "\n",
              "  .colab-df-quickchart-complete:disabled,\n",
              "  .colab-df-quickchart-complete:disabled:hover {\n",
              "    background-color: var(--disabled-bg-color);\n",
              "    fill: var(--disabled-fill-color);\n",
              "    box-shadow: none;\n",
              "  }\n",
              "\n",
              "  .colab-df-spinner {\n",
              "    border: 2px solid var(--fill-color);\n",
              "    border-color: transparent;\n",
              "    border-bottom-color: var(--fill-color);\n",
              "    animation:\n",
              "      spin 1s steps(1) infinite;\n",
              "  }\n",
              "\n",
              "  @keyframes spin {\n",
              "    0% {\n",
              "      border-color: transparent;\n",
              "      border-bottom-color: var(--fill-color);\n",
              "      border-left-color: var(--fill-color);\n",
              "    }\n",
              "    20% {\n",
              "      border-color: transparent;\n",
              "      border-left-color: var(--fill-color);\n",
              "      border-top-color: var(--fill-color);\n",
              "    }\n",
              "    30% {\n",
              "      border-color: transparent;\n",
              "      border-left-color: var(--fill-color);\n",
              "      border-top-color: var(--fill-color);\n",
              "      border-right-color: var(--fill-color);\n",
              "    }\n",
              "    40% {\n",
              "      border-color: transparent;\n",
              "      border-right-color: var(--fill-color);\n",
              "      border-top-color: var(--fill-color);\n",
              "    }\n",
              "    60% {\n",
              "      border-color: transparent;\n",
              "      border-right-color: var(--fill-color);\n",
              "    }\n",
              "    80% {\n",
              "      border-color: transparent;\n",
              "      border-right-color: var(--fill-color);\n",
              "      border-bottom-color: var(--fill-color);\n",
              "    }\n",
              "    90% {\n",
              "      border-color: transparent;\n",
              "      border-bottom-color: var(--fill-color);\n",
              "    }\n",
              "  }\n",
              "</style>\n",
              "\n",
              "  <script>\n",
              "    async function quickchart(key) {\n",
              "      const quickchartButtonEl =\n",
              "        document.querySelector('#' + key + ' button');\n",
              "      quickchartButtonEl.disabled = true;  // To prevent multiple clicks.\n",
              "      quickchartButtonEl.classList.add('colab-df-spinner');\n",
              "      try {\n",
              "        const charts = await google.colab.kernel.invokeFunction(\n",
              "            'suggestCharts', [key], {});\n",
              "      } catch (error) {\n",
              "        console.error('Error during call to suggestCharts:', error);\n",
              "      }\n",
              "      quickchartButtonEl.classList.remove('colab-df-spinner');\n",
              "      quickchartButtonEl.classList.add('colab-df-quickchart-complete');\n",
              "    }\n",
              "    (() => {\n",
              "      let quickchartButtonEl =\n",
              "        document.querySelector('#df-0b44b251-8097-439b-9ad1-4e9f99f3d1b5 button');\n",
              "      quickchartButtonEl.style.display =\n",
              "        google.colab.kernel.accessAllowed ? 'block' : 'none';\n",
              "    })();\n",
              "  </script>\n",
              "</div>\n",
              "\n",
              "    </div>\n",
              "  </div>\n"
            ],
            "application/vnd.google.colaboratory.intrinsic+json": {
              "type": "dataframe",
              "variable_name": "cdf_one_hot"
            }
          },
          "metadata": {},
          "execution_count": 11
        }
      ]
    },
    {
      "cell_type": "markdown",
      "source": [
        "87 Columns + 15 (5*3) new one hot encoded columns = 102 columns total"
      ],
      "metadata": {
        "id": "QToSs2jWBCyl"
      }
    },
    {
      "cell_type": "code",
      "source": [
        "cdf_one_hot.columns"
      ],
      "metadata": {
        "colab": {
          "base_uri": "https://localhost:8080/"
        },
        "id": "kyWZjGbu9-xE",
        "outputId": "6abc3bf8-e694-466d-f632-3d899e377afd"
      },
      "execution_count": null,
      "outputs": [
        {
          "output_type": "execute_result",
          "data": {
            "text/plain": [
              "Index(['Indexno', 'Age', 'Gender', 'RCRI score', 'Anemia category',\n",
              "       'PreopEGFRMDRD', 'GradeofKidneydisease', 'DaysbetweenDeathandoperation',\n",
              "       '@30daymortality', 'Preoptransfusionwithin30days',\n",
              "       ...\n",
              "       'IHDRCRICategory_NA', 'CHFRCRICategory_False', 'CHFRCRICategory_True',\n",
              "       'CHFRCRICategory_NA', 'DMinsulinRCRICategory_False',\n",
              "       'DMinsulinRCRICategory_True', 'DMinsulinRCRICategory_NA',\n",
              "       'CreatinineRCRICategory_False', 'CreatinineRCRICategory_True',\n",
              "       'CreatinineRCRICategory_NA'],\n",
              "      dtype='object', length=102)"
            ]
          },
          "metadata": {},
          "execution_count": 12
        }
      ]
    },
    {
      "cell_type": "code",
      "source": [
        "# Save the imputed dataframe as CSV for EDA and further steps\n",
        "cdf_one_hot.to_csv('CARES_data_imputed.csv', index=False)"
      ],
      "metadata": {
        "id": "rwHnNZcBKsjg"
      },
      "execution_count": null,
      "outputs": []
    },
    {
      "cell_type": "markdown",
      "source": [
        "#### Raw github link for the imputed dataset:\n",
        "\n",
        "https://raw.githubusercontent.com/Aniket302/Cares_Data/main/CARES_data_imputed.csv"
      ],
      "metadata": {
        "id": "cGF_ER2iaJjW"
      }
    },
    {
      "cell_type": "markdown",
      "source": [
        "### SMOTE"
      ],
      "metadata": {
        "id": "_whX8YU46-5b"
      }
    },
    {
      "cell_type": "code",
      "source": [
        "from imblearn.over_sampling import SMOTE\n",
        "from collections import Counter\n",
        "import matplotlib.pyplot as plt"
      ],
      "metadata": {
        "id": "zf37XvnN6zaP"
      },
      "execution_count": null,
      "outputs": []
    },
    {
      "cell_type": "markdown",
      "source": [
        "Dropping categorical columns"
      ],
      "metadata": {
        "id": "LwWeavXEZLuo"
      }
    },
    {
      "cell_type": "code",
      "source": [
        "# Drop columns that are not necessary\n",
        "cdf_one_hot.drop(['Indexno'], axis=1, inplace=True)\n",
        "\n",
        "# Drop columns that are already one-hot encoded\n",
        "categorical_cols = ['Gender', 'Anemia category', 'GradeofKidneydisease', 'AnaestypeCategory',\n",
        "                    'PriorityCategory', 'TransfusionIntraandpostopCategory', 'AGEcategory',\n",
        "                    'AGEcategoryOriginal', 'SurgRiskCategory', 'RaceCategory','GradeofKidneyCategory',\n",
        "                    'Anemiacategorybinned', 'RDW15.7', 'ASAcategorybinned']\n",
        "\n",
        "cdf_one_hot.drop(columns = categorical_cols, inplace=True)\n",
        "\n",
        "boolean_cols = ['CVARCRICategory', 'IHDRCRICategory','CHFRCRICategory',\n",
        "                'DMinsulinRCRICategory', 'CreatinineRCRICategory']\n",
        "\n",
        "cdf_one_hot.drop(columns = boolean_cols, inplace=True)"
      ],
      "metadata": {
        "id": "C7UaswqsRROj"
      },
      "execution_count": null,
      "outputs": []
    },
    {
      "cell_type": "markdown",
      "source": [
        "SMOTE resampling function"
      ],
      "metadata": {
        "id": "TDZXUG4wZeZj"
      }
    },
    {
      "cell_type": "code",
      "source": [
        "# List of outcome variables\n",
        "outcome_vars = ['DaysbetweenDeathandoperation', '@30daymortality', 'Mortality', 'thirtydaymortality', 'ICUAdmgt24h']\n",
        "\n",
        "# Separating features and target\n",
        "X = cdf_one_hot.drop(columns=outcome_vars)\n",
        "\n",
        "def smote_resample(target_variable):\n",
        "    y = cdf_one_hot[target_variable]\n",
        "\n",
        "    # Splitting data into training and testing sets\n",
        "    # X_train, X_test, y_train, y_test = train_test_split(X, y, test_size=0.2, random_state=42)\n",
        "\n",
        "    # Applying SMOTE to the data\n",
        "    smote = SMOTE(random_state=42)\n",
        "    X_train_smote, y_train_smote = smote.fit_resample(X, y)\n",
        "\n",
        "    # Original distribution of y\n",
        "    y_counts = Counter(y)\n",
        "    y_resampled_counts = Counter(y_train_smote)\n",
        "\n",
        "    # Check the new distribution\n",
        "    print(f'Original {target_variable} distribution:\\n{y_counts}')\n",
        "    print(f'\\nSMOTE {target_variable} distribution:\\n{y_resampled_counts}\\n')\n",
        "\n",
        "    # Create a DataFrame for easy plotting\n",
        "    df_counts = pd.DataFrame.from_dict(y_counts, orient='index', columns=['Original'])\n",
        "    df_counts['Resampled'] = pd.Series(y_resampled_counts)\n",
        "\n",
        "    # Plot the distributions\n",
        "    ax = df_counts.plot(kind='bar', figsize=(10, 6))\n",
        "    plt.title(f'Distribution of Original and Resampled \\\"{target_variable}\\\"')\n",
        "    plt.xlabel('Class')\n",
        "    plt.ylabel('Count')\n",
        "    plt.xticks(rotation=0)\n",
        "\n",
        "    for container in ax.containers:\n",
        "        ax.bar_label(container, label_type='edge')\n",
        "\n",
        "    plt.show()"
      ],
      "metadata": {
        "id": "ZABBTFZ68-I6"
      },
      "execution_count": null,
      "outputs": []
    },
    {
      "cell_type": "markdown",
      "source": [
        "### **Distribution of target variables before and after SMOTE**"
      ],
      "metadata": {
        "id": "_2K60qCuXBOi"
      }
    },
    {
      "cell_type": "code",
      "source": [
        "smote_resample('@30daymortality')"
      ],
      "metadata": {
        "colab": {
          "base_uri": "https://localhost:8080/",
          "height": 670
        },
        "id": "9A88wg26EMIR",
        "outputId": "46b474b1-6e70-448a-d9af-89583fbf561c"
      },
      "execution_count": null,
      "outputs": [
        {
          "output_type": "stream",
          "name": "stdout",
          "text": [
            "Original @30daymortality distribution:\n",
            "Counter({False: 90246, True: 539})\n",
            "\n",
            "SMOTE @30daymortality distribution:\n",
            "Counter({False: 90246, True: 90246})\n",
            "\n"
          ]
        },
        {
          "output_type": "display_data",
          "data": {
            "text/plain": [
              "<Figure size 1000x600 with 1 Axes>"
            ],
            "image/png": "[encoded data removed]"
          },
          "metadata": {}
        }
      ]
    },
    {
      "cell_type": "code",
      "source": [
        "smote_resample('Mortality')"
      ],
      "metadata": {
        "id": "Qc5S46yLEPXE",
        "colab": {
          "base_uri": "https://localhost:8080/",
          "height": 670
        },
        "outputId": "4e25e14f-6d07-40fe-eaf0-3f7b4327111b"
      },
      "execution_count": null,
      "outputs": [
        {
          "output_type": "stream",
          "name": "stdout",
          "text": [
            "Original Mortality distribution:\n",
            "Counter({False: 85190, True: 5595})\n",
            "\n",
            "SMOTE Mortality distribution:\n",
            "Counter({False: 85190, True: 85190})\n",
            "\n"
          ]
        },
        {
          "output_type": "display_data",
          "data": {
            "text/plain": [
              "<Figure size 1000x600 with 1 Axes>"
            ],
            "image/png": "[encoded data removed]"
          },
          "metadata": {}
        }
      ]
    },
    {
      "cell_type": "code",
      "source": [
        "smote_resample('thirtydaymortality')"
      ],
      "metadata": {
        "colab": {
          "base_uri": "https://localhost:8080/",
          "height": 670
        },
        "id": "e26sOb3zWZqL",
        "outputId": "0c0211d7-b5a3-4a7d-b033-34f811f9af54"
      },
      "execution_count": null,
      "outputs": [
        {
          "output_type": "stream",
          "name": "stdout",
          "text": [
            "Original thirtydaymortality distribution:\n",
            "Counter({False: 90246, True: 539})\n",
            "\n",
            "SMOTE thirtydaymortality distribution:\n",
            "Counter({False: 90246, True: 90246})\n",
            "\n"
          ]
        },
        {
          "output_type": "display_data",
          "data": {
            "text/plain": [
              "<Figure size 1000x600 with 1 Axes>"
            ],
            "image/png": "[encoded data removed]"
          },
          "metadata": {}
        }
      ]
    },
    {
      "cell_type": "code",
      "source": [
        "smote_resample('ICUAdmgt24h')"
      ],
      "metadata": {
        "colab": {
          "base_uri": "https://localhost:8080/",
          "height": 670
        },
        "id": "l3h4L2YOWZgj",
        "outputId": "f9259837-b54e-4a4e-e2b2-5864eda80ac0"
      },
      "execution_count": null,
      "outputs": [
        {
          "output_type": "stream",
          "name": "stdout",
          "text": [
            "Original ICUAdmgt24h distribution:\n",
            "Counter({False: 89521, True: 1264})\n",
            "\n",
            "SMOTE ICUAdmgt24h distribution:\n",
            "Counter({False: 89521, True: 89521})\n",
            "\n"
          ]
        },
        {
          "output_type": "display_data",
          "data": {
            "text/plain": [
              "<Figure size 1000x600 with 1 Axes>"
            ],
            "image/png": "[encoded data removed]"
          },
          "metadata": {}
        }
      ]
    }
  ]
}